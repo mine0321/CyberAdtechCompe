{
 "cells": [
  {
   "cell_type": "code",
   "execution_count": 21,
   "metadata": {
    "collapsed": true
   },
   "outputs": [],
   "source": [
    "import numpy as np\n",
    "import time"
   ]
  },
  {
   "cell_type": "code",
   "execution_count": 26,
   "metadata": {
    "collapsed": true
   },
   "outputs": [],
   "source": [
    "target_cpc_list = np.array([130, 100 ,80  ,60 ,50 ,40 ,30 ,35 ,30 ,30 ])\n",
    "budget_list = np.array([20000000,12000000,12000000,8000000,8000000,8000000,4000000,4000000,2000000,2000000])\n",
    "starttime = time.time()\n",
    "limit_time = float(60*60*3)"
   ]
  },
  {
   "cell_type": "code",
   "execution_count": 27,
   "metadata": {
    "collapsed": true
   },
   "outputs": [],
   "source": [
    "pre_cpcs = np.zeros(len(target_cpc_list))\n",
    "cpcs = target_cpc_list\n",
    "cost_list = np.zeros(len(target_cpc_list))"
   ]
  },
  {
   "cell_type": "code",
   "execution_count": 28,
   "metadata": {
    "collapsed": true
   },
   "outputs": [],
   "source": [
    "def optimizer(ad_num, pre_cpcs, cpcs, cost_list):\n",
    "    return cpcs, pre_cpcs, cost_list"
   ]
  },
  {
   "cell_type": "code",
   "execution_count": 29,
   "metadata": {
    "collapsed": true
   },
   "outputs": [],
   "source": [
    "class Optimizer(object):\n",
    "    \"\"\"docstring for Optimizer.\"\"\"\n",
    "    #\n",
    "    # e.g.)\n",
    "    # document = Optimizer()\n",
    "    # document.optimizer(ad_num, pre_cpcs, cpcs, cost_list)\n",
    "    #\n",
    "    def __init__(self):\n",
    "        self.target_cpc_list = np.array([\n",
    "            130, 100, 80, 60, 50, 40, 30, 35, 30, 30])\n",
    "        self.budget_list = np.array([\n",
    "            20000000, 12000000, 12000000, 8000000, 8000000,\n",
    "            8000000, 4000000, 4000000, 2000000, 2000000])\n",
    "        self.starttime = time.time()\n",
    "        self.limit_time = float(60 * 60 * 3)\n",
    "\n",
    "    def optimizer(self):\n",
    "        return self.starttime, time.time(), "
   ]
  },
  {
   "cell_type": "code",
   "execution_count": 32,
   "metadata": {
    "collapsed": true
   },
   "outputs": [],
   "source": [
    "document = Optimizer()"
   ]
  },
  {
   "cell_type": "code",
   "execution_count": 33,
   "metadata": {
    "collapsed": false
   },
   "outputs": [
    {
     "data": {
      "text/plain": [
       "(1455980385.777762, 1455980390.691205)"
      ]
     },
     "execution_count": 33,
     "metadata": {},
     "output_type": "execute_result"
    }
   ],
   "source": [
    "document.optimizer()"
   ]
  },
  {
   "cell_type": "code",
   "execution_count": 34,
   "metadata": {
    "collapsed": false
   },
   "outputs": [
    {
     "data": {
      "text/plain": [
       "(1455980385.777762, 1455980396.549507)"
      ]
     },
     "execution_count": 34,
     "metadata": {},
     "output_type": "execute_result"
    }
   ],
   "source": [
    "document.optimizer()"
   ]
  },
  {
   "cell_type": "code",
   "execution_count": null,
   "metadata": {
    "collapsed": true
   },
   "outputs": [],
   "source": []
  }
 ],
 "metadata": {
  "kernelspec": {
   "display_name": "Python 2",
   "language": "python",
   "name": "python2"
  },
  "language_info": {
   "codemirror_mode": {
    "name": "ipython",
    "version": 2
   },
   "file_extension": ".py",
   "mimetype": "text/x-python",
   "name": "python",
   "nbconvert_exporter": "python",
   "pygments_lexer": "ipython2",
   "version": "2.7.11"
  }
 },
 "nbformat": 4,
 "nbformat_minor": 0
}

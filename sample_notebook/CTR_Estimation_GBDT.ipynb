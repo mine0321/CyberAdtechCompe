{
 "cells": [
  {
   "cell_type": "code",
   "execution_count": 56,
   "metadata": {
    "collapsed": false
   },
   "outputs": [],
   "source": [
    "% matplotlib inline"
   ]
  },
  {
   "cell_type": "code",
   "execution_count": 57,
   "metadata": {
    "collapsed": false
   },
   "outputs": [],
   "source": [
    "import pandas as pd\n",
    "import numpy as np\n",
    "import xgboost as xgb\n",
    "from sklearn.externals import joblib\n",
    "import time"
   ]
  },
  {
   "cell_type": "code",
   "execution_count": 58,
   "metadata": {
    "collapsed": true
   },
   "outputs": [],
   "source": [
    "advertiserlist_path = '../data/adtech_intern_advertiserlist.csv'\n",
    "log_path = '../data/intern_samplelog.csv'"
   ]
  },
  {
   "cell_type": "code",
   "execution_count": 59,
   "metadata": {
    "collapsed": false
   },
   "outputs": [],
   "source": [
    "advertiserlist = pd.read_csv(advertiserlist_path)\n",
    "log_original = pd.read_csv(log_path)\n",
    "log = log_original"
   ]
  },
  {
   "cell_type": "code",
   "execution_count": 60,
   "metadata": {
    "collapsed": false
   },
   "outputs": [
    {
     "name": "stderr",
     "output_type": "stream",
     "text": [
      "/Users/kei/penv2/lib/python2.7/site-packages/ipykernel/__main__.py:1: SettingWithCopyWarning: \n",
      "A value is trying to be set on a copy of a slice from a DataFrame\n",
      "\n",
      "See the caveats in the documentation: http://pandas.pydata.org/pandas-docs/stable/indexing.html#indexing-view-versus-copy\n",
      "  if __name__ == '__main__':\n",
      "/Users/kei/penv2/lib/python2.7/site-packages/ipykernel/__main__.py:2: SettingWithCopyWarning: \n",
      "A value is trying to be set on a copy of a slice from a DataFrame\n",
      "\n",
      "See the caveats in the documentation: http://pandas.pydata.org/pandas-docs/stable/indexing.html#indexing-view-versus-copy\n",
      "  from ipykernel import kernelapp as app\n"
     ]
    }
   ],
   "source": [
    "log.loc[:,'os'][log.os=='iOS'] = 0\n",
    "log.loc[:,'os'][log.os=='Android'] = 1"
   ]
  },
  {
   "cell_type": "code",
   "execution_count": 61,
   "metadata": {
    "collapsed": false,
    "scrolled": true
   },
   "outputs": [],
   "source": [
    "def hashnum(modnum, data):\n",
    "    mod = 10 ** modnum\n",
    "    return hash(data) % mod"
   ]
  },
  {
   "cell_type": "code",
   "execution_count": 62,
   "metadata": {
    "collapsed": false,
    "scrolled": false
   },
   "outputs": [
    {
     "name": "stdout",
     "output_type": "stream",
     "text": [
      "----------------- Advertiser 1 -------------------\n",
      "   test-auc-mean  test-auc-std  train-auc-mean  train-auc-std\n",
      "0       0.650861      0.006171        0.654020       0.001627\n",
      "1       0.666785      0.003373        0.669649       0.002339\n",
      "----------------- Advertiser 2 -------------------\n",
      "   test-auc-mean  test-auc-std  train-auc-mean  train-auc-std\n",
      "0       0.554345      0.006989        0.558015       0.006110\n",
      "1       0.567882      0.004680        0.573683       0.002197\n",
      "----------------- Advertiser 3 -------------------\n",
      "   test-auc-mean  test-auc-std  train-auc-mean  train-auc-std\n",
      "0       0.616817      0.004229        0.618254       0.001042\n",
      "1       0.636157      0.003911        0.639709       0.000679\n",
      "----------------- Advertiser 4 -------------------\n",
      "   test-auc-mean  test-auc-std  train-auc-mean  train-auc-std\n",
      "0       0.561811      0.011675        0.565452       0.010532\n",
      "1       0.584164      0.005161        0.590309       0.003335\n",
      "----------------- Advertiser 5 -------------------\n",
      "   test-auc-mean  test-auc-std  train-auc-mean  train-auc-std\n",
      "0       0.584637       0.00504        0.587241       0.001625\n",
      "1       0.605334       0.00488        0.611119       0.002402\n",
      "----------------- Advertiser 6 -------------------\n",
      "   test-auc-mean  test-auc-std  train-auc-mean  train-auc-std\n",
      "0       0.541039      0.002754        0.543086       0.000725\n",
      "1       0.553331      0.003583        0.559261       0.002660\n",
      "----------------- Advertiser 7 -------------------\n",
      "   test-auc-mean  test-auc-std  train-auc-mean  train-auc-std\n",
      "0       0.624846      0.003748        0.626366       0.001093\n",
      "1       0.654886      0.003563        0.657028       0.000656\n",
      "----------------- Advertiser 8 -------------------\n",
      "   test-auc-mean  test-auc-std  train-auc-mean  train-auc-std\n",
      "0       0.636621      0.003860        0.637839       0.002315\n",
      "1       0.661056      0.002565        0.663459       0.001511\n",
      "----------------- Advertiser 9 -------------------\n",
      "   test-auc-mean  test-auc-std  train-auc-mean  train-auc-std\n",
      "0       0.692682      0.003093        0.693707       0.000340\n",
      "1       0.716327      0.003092        0.718829       0.000369\n",
      "----------------- Advertiser 10 -------------------\n",
      "   test-auc-mean  test-auc-std  train-auc-mean  train-auc-std\n",
      "0       0.758574      0.005176        0.759018       0.000588\n",
      "1       0.789262      0.004766        0.789939       0.000524\n"
     ]
    }
   ],
   "source": [
    "logEachAd = [log[log.advertiser==ad].drop('advertiser', axis=1).fillna(value=0) for ad in xrange(1, 11)]\n",
    "input_type='string'\n",
    "param = {'max_depth':6, 'eta':1, 'silent':1, 'objective':'binary:logistic'}\n",
    "num_round = 2\n",
    "modnum = 3\n",
    "n_folds = 10\n",
    "\n",
    "for ind, eachlog in enumerate(logEachAd):\n",
    "    print '----------------- Advertiser %d -------------------' %(ind+1)\n",
    "    log_data = eachlog.drop('click', axis=1)\n",
    "    log_target = eachlog.click\n",
    "    hashlog_data = [[hashnum(modnum, num) for num in sample] for sample in log_data.drop(['floor_price','os'], axis=1).values]\n",
    "    log_data = np.c_[hashlog_data,log_data.os, log_data.floor_price]\n",
    "    dlog = xgb.DMatrix(log_data,label=log_target)\n",
    "    print xgb.cv(param, dlog, num_round, nfold=n_folds, metrics={'auc'}, seed = 0)\n",
    "    xgb_model = xgb.train(param, dlog, num_round)\n",
    "    model_path = '../models/Ad%d_xgb.pkl'%(ind+1)\n",
    "    joblib.dump(xgb_model, model_path)"
   ]
  },
  {
   "cell_type": "code",
   "execution_count": 63,
   "metadata": {
    "collapsed": false
   },
   "outputs": [],
   "source": [
    "xgb_models = [joblib.load('../models/Ad%d_xgb.pkl'%ind) for ind in xrange(1,11)]"
   ]
  },
  {
   "cell_type": "code",
   "execution_count": 51,
   "metadata": {
    "collapsed": false
   },
   "outputs": [
    {
     "name": "stdout",
     "output_type": "stream",
     "text": [
      "25.8333959579\n"
     ]
    }
   ],
   "source": [
    "test_samples = log.drop(['click', 'advertiser'], axis=1).loc[:10000].fillna(value=0)\n",
    "start_time = time.time()\n",
    "\n",
    "for test_sample in test_samples.as_matrix():\n",
    "    if test_sample[3] == 'iOS':\n",
    "        test_sample = xgb.DMatrix([hashnum(modnum, test_sample[0]), hashnum(modnum, test_sample[2]), 0])\n",
    "    else:\n",
    "        test_sample = xgb.DMatrix([hashnum(modnum, test_sample[0]), hashnum(modnum, test_sample[2]), 1])\n",
    "    [float(model.predict(test_sample))for model in xgb_models]\n",
    "print time.time() - start_time"
   ]
  },
  {
   "cell_type": "code",
   "execution_count": 80,
   "metadata": {
    "collapsed": false
   },
   "outputs": [],
   "source": [
    "sample_dict = {\n",
    "    'id' : \"ididid\",\n",
    "    'floorPrice' : 1000,\n",
    "    'site' : \"medianame\",\n",
    "    'device' : \"device\",\n",
    "    'user' : \"a9102910201\",\n",
    "    'test' : 0\n",
    "}"
   ]
  },
  {
   "cell_type": "code",
   "execution_count": 84,
   "metadata": {
    "collapsed": false
   },
   "outputs": [
    {
     "data": {
      "text/plain": [
       "[0.21913763880729675,\n",
       " 0.14578142762184143,\n",
       " 0.18474996089935303,\n",
       " 0.19934862852096558,\n",
       " 0.7245240211486816,\n",
       " 0.24230889976024628,\n",
       " 0.6336053609848022,\n",
       " 0.22833609580993652,\n",
       " 0.19325865805149078,\n",
       " 0.8674460053443909]"
      ]
     },
     "execution_count": 84,
     "metadata": {},
     "output_type": "execute_result"
    }
   ],
   "source": [
    "if sample_dict['floorPrice'] == 'nan':\n",
    "    sample_dict['floorPrice'] = 0\n",
    "if sample_dict['device'] == 'iOS':\n",
    "        test_sample = xgb.DMatrix([hashnum(modnum, sample_dict['site']), hashnum(modnum, sample_dict['user']), 0,  sample_dict['floorPrice']])\n",
    "else:\n",
    "    test_sample = xgb.DMatrix([hashnum(modnum, sample_dict['site']), hashnum(modnum, sample_dict['user']), 1,  sample_dict['floorPrice']])\n",
    "[float(model.predict(test_sample))for model in xgb_models]"
   ]
  },
  {
   "cell_type": "code",
   "execution_count": null,
   "metadata": {
    "collapsed": true
   },
   "outputs": [],
   "source": []
  }
 ],
 "metadata": {
  "kernelspec": {
   "display_name": "Python 2",
   "language": "python",
   "name": "python2"
  },
  "language_info": {
   "codemirror_mode": {
    "name": "ipython",
    "version": 2
   },
   "file_extension": ".py",
   "mimetype": "text/x-python",
   "name": "python",
   "nbconvert_exporter": "python",
   "pygments_lexer": "ipython2",
   "version": "2.7.11"
  }
 },
 "nbformat": 4,
 "nbformat_minor": 0
}

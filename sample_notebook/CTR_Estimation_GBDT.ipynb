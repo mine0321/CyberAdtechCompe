{
 "cells": [
  {
   "cell_type": "code",
   "execution_count": 1,
   "metadata": {
    "collapsed": false
   },
   "outputs": [
    {
     "name": "stderr",
     "output_type": "stream",
     "text": [
      "/Users/kei/penv2/lib/python2.7/site-packages/matplotlib/font_manager.py:273: UserWarning: Matplotlib is building the font cache using fc-list. This may take a moment.\n",
      "  warnings.warn('Matplotlib is building the font cache using fc-list. This may take a moment.')\n"
     ]
    }
   ],
   "source": [
    "% matplotlib inline"
   ]
  },
  {
   "cell_type": "code",
   "execution_count": 1,
   "metadata": {
    "collapsed": false
   },
   "outputs": [],
   "source": [
    "import pandas as pd\n",
    "import numpy as np\n",
    "import xgboost as xgb\n",
    "from sklearn.externals import joblib\n",
    "import time"
   ]
  },
  {
   "cell_type": "code",
   "execution_count": 2,
   "metadata": {
    "collapsed": true
   },
   "outputs": [],
   "source": [
    "advertiserlist_path = '../data/adtech_intern_advertiserlist.csv'\n",
    "log_path = '../data/intern_samplelog.csv'"
   ]
  },
  {
   "cell_type": "code",
   "execution_count": 3,
   "metadata": {
    "collapsed": false
   },
   "outputs": [],
   "source": [
    "advertiserlist = pd.read_csv(advertiserlist_path)\n",
    "log_original = pd.read_csv(log_path)\n",
    "log = log_original"
   ]
  },
  {
   "cell_type": "code",
   "execution_count": 4,
   "metadata": {
    "collapsed": false
   },
   "outputs": [
    {
     "name": "stderr",
     "output_type": "stream",
     "text": [
      "/Users/kei/penv2/lib/python2.7/site-packages/ipykernel/__main__.py:1: SettingWithCopyWarning: \n",
      "A value is trying to be set on a copy of a slice from a DataFrame\n",
      "\n",
      "See the caveats in the documentation: http://pandas.pydata.org/pandas-docs/stable/indexing.html#indexing-view-versus-copy\n",
      "  if __name__ == '__main__':\n",
      "/Users/kei/penv2/lib/python2.7/site-packages/ipykernel/__main__.py:2: SettingWithCopyWarning: \n",
      "A value is trying to be set on a copy of a slice from a DataFrame\n",
      "\n",
      "See the caveats in the documentation: http://pandas.pydata.org/pandas-docs/stable/indexing.html#indexing-view-versus-copy\n",
      "  from ipykernel import kernelapp as app\n"
     ]
    }
   ],
   "source": [
    "log.loc[:,'os'][log.os=='iOS'] = 0\n",
    "log.loc[:,'os'][log.os=='Android'] = 1"
   ]
  },
  {
   "cell_type": "code",
   "execution_count": 5,
   "metadata": {
    "collapsed": false,
    "scrolled": true
   },
   "outputs": [],
   "source": [
    "def hashnum(modnum, data):\n",
    "    mod = 10 ** modnum\n",
    "    return hash(data) % mod"
   ]
  },
  {
   "cell_type": "code",
   "execution_count": 8,
   "metadata": {
    "collapsed": false,
    "scrolled": false
   },
   "outputs": [
    {
     "name": "stdout",
     "output_type": "stream",
     "text": [
      "----------------- Advertiser 1 -------------------\n",
      "    test-auc-mean  test-auc-std  train-auc-mean  train-auc-std\n",
      "0        0.650996      0.006061        0.654391       0.001684\n",
      "1        0.666864      0.003790        0.669889       0.002226\n",
      "2        0.669218      0.004200        0.673909       0.001634\n",
      "3        0.669182      0.004188        0.678239       0.001068\n",
      "4        0.668262      0.004392        0.680646       0.001081\n",
      "5        0.666563      0.004622        0.683008       0.001066\n",
      "6        0.666160      0.004403        0.684716       0.000972\n",
      "7        0.665672      0.004625        0.686069       0.000936\n",
      "8        0.664971      0.004507        0.687422       0.000763\n",
      "9        0.664419      0.004287        0.688756       0.000778\n",
      "10       0.663666      0.004553        0.689983       0.000814\n",
      "----------------- Advertiser 2 -------------------\n",
      "    test-auc-mean  test-auc-std  train-auc-mean  train-auc-std\n",
      "0        0.554664      0.007393        0.557706       0.006277\n",
      "1        0.569119      0.004042        0.572837       0.002206\n",
      "2        0.571473      0.003454        0.580605       0.002010\n",
      "3        0.572834      0.002528        0.585862       0.001150\n",
      "4        0.571675      0.002510        0.589330       0.001161\n",
      "5        0.570745      0.002220        0.592108       0.000816\n",
      "6        0.569939      0.002065        0.594530       0.000585\n",
      "7        0.569366      0.002696        0.596723       0.000686\n",
      "8        0.567792      0.003252        0.598609       0.000997\n",
      "9        0.566195      0.003210        0.600538       0.000896\n",
      "10       0.565652      0.003370        0.602172       0.000792\n",
      "----------------- Advertiser 3 -------------------\n",
      "    test-auc-mean  test-auc-std  train-auc-mean  train-auc-std\n",
      "0        0.616893      0.004318        0.618238       0.000978\n",
      "1        0.636321      0.004109        0.639561       0.000579\n",
      "2        0.638488      0.004047        0.643564       0.001803\n",
      "3        0.640179      0.004227        0.647808       0.000600\n",
      "4        0.639764      0.004429        0.649736       0.000759\n",
      "5        0.639109      0.004432        0.650873       0.000612\n",
      "6        0.637803      0.004480        0.651978       0.000622\n",
      "7        0.637332      0.004559        0.652840       0.000701\n",
      "8        0.637077      0.004593        0.653835       0.000800\n",
      "9        0.636632      0.004558        0.654701       0.000741\n",
      "10       0.635991      0.004492        0.655594       0.000798\n",
      "----------------- Advertiser 4 -------------------\n",
      "    test-auc-mean  test-auc-std  train-auc-mean  train-auc-std\n",
      "0        0.562324      0.012118        0.564961       0.010386\n",
      "1        0.584292      0.005066        0.589405       0.003178\n",
      "2        0.591780      0.003876        0.600381       0.001028\n",
      "3        0.593654      0.004788        0.604064       0.000500\n",
      "4        0.592408      0.004550        0.606129       0.000463\n",
      "5        0.591938      0.004516        0.607505       0.000587\n",
      "6        0.590915      0.004145        0.609067       0.000450\n",
      "7        0.590325      0.004460        0.610293       0.000530\n",
      "8        0.589481      0.004350        0.611446       0.000574\n",
      "9        0.588683      0.004124        0.612451       0.000436\n",
      "10       0.588094      0.004082        0.613558       0.000474\n",
      "----------------- Advertiser 5 -------------------\n",
      "    test-auc-mean  test-auc-std  train-auc-mean  train-auc-std\n",
      "0        0.585441      0.005215        0.586884       0.001531\n",
      "1        0.606301      0.005195        0.610585       0.002438\n",
      "2        0.610780      0.004662        0.617401       0.000612\n",
      "3        0.610680      0.004001        0.619377       0.000728\n",
      "4        0.610148      0.003636        0.620648       0.000672\n",
      "5        0.609595      0.003932        0.621928       0.000523\n",
      "6        0.609099      0.003942        0.622977       0.000551\n",
      "7        0.608270      0.003991        0.624015       0.000565\n",
      "8        0.607913      0.004004        0.624915       0.000470\n",
      "9        0.607582      0.003926        0.625850       0.000549\n",
      "10       0.606586      0.003740        0.626814       0.000540\n",
      "----------------- Advertiser 6 -------------------\n",
      "    test-auc-mean  test-auc-std  train-auc-mean  train-auc-std\n",
      "0        0.540646      0.002895        0.542851       0.000789\n",
      "1        0.553799      0.003689        0.559953       0.002743\n",
      "2        0.563916      0.004104        0.572932       0.001405\n",
      "3        0.563916      0.003423        0.576064       0.000887\n",
      "4        0.562592      0.002886        0.577791       0.000829\n",
      "5        0.561816      0.003059        0.579466       0.000887\n",
      "6        0.561142      0.002965        0.581170       0.000800\n",
      "7        0.560447      0.002706        0.582658       0.000863\n",
      "8        0.559631      0.002666        0.584027       0.000629\n",
      "9        0.558509      0.003548        0.585130       0.000770\n",
      "10       0.557951      0.003307        0.586286       0.000620\n",
      "----------------- Advertiser 7 -------------------\n",
      "    test-auc-mean  test-auc-std  train-auc-mean  train-auc-std\n",
      "0        0.625080      0.003713        0.626273       0.001076\n",
      "1        0.654724      0.003716        0.656822       0.000699\n",
      "2        0.684034      0.003813        0.687319       0.000647\n",
      "3        0.687514      0.004009        0.691691       0.000590\n",
      "4        0.687027      0.004131        0.692406       0.000686\n",
      "5        0.686633      0.004212        0.693098       0.000743\n",
      "6        0.686284      0.004016        0.693733       0.000661\n",
      "7        0.686017      0.004028        0.694278       0.000657\n",
      "8        0.685572      0.004049        0.694861       0.000633\n",
      "9        0.685150      0.004157        0.695371       0.000657\n",
      "10       0.684896      0.004520        0.695866       0.000720\n",
      "----------------- Advertiser 8 -------------------\n",
      "    test-auc-mean  test-auc-std  train-auc-mean  train-auc-std\n",
      "0        0.636674      0.004132        0.637807       0.002345\n",
      "1        0.660883      0.002872        0.663324       0.001582\n",
      "2        0.667292      0.002759        0.671495       0.000770\n",
      "3        0.667997      0.002822        0.673469       0.000694\n",
      "4        0.668028      0.003186        0.674747       0.000400\n",
      "5        0.667633      0.003110        0.675440       0.000492\n",
      "6        0.667099      0.002845        0.676243       0.000473\n",
      "7        0.666517      0.002856        0.676947       0.000476\n",
      "8        0.666264      0.002831        0.677608       0.000403\n",
      "9        0.665951      0.002764        0.678262       0.000423\n",
      "10       0.665638      0.002968        0.678792       0.000445\n",
      "----------------- Advertiser 9 -------------------\n",
      "    test-auc-mean  test-auc-std  train-auc-mean  train-auc-std\n",
      "0        0.692921      0.003200        0.693848       0.000385\n",
      "1        0.716839      0.003214        0.718877       0.000428\n",
      "2        0.724847      0.002889        0.727904       0.000472\n",
      "3        0.725536      0.003080        0.729452       0.000502\n",
      "4        0.725553      0.003056        0.730460       0.000415\n",
      "5        0.725162      0.003063        0.731030       0.000408\n",
      "6        0.724896      0.003026        0.731544       0.000421\n",
      "7        0.724694      0.002931        0.732033       0.000375\n",
      "8        0.724434      0.002708        0.732528       0.000360\n",
      "9        0.724148      0.002800        0.732894       0.000360\n",
      "10       0.723886      0.002663        0.733303       0.000356\n",
      "----------------- Advertiser 10 -------------------\n",
      "    test-auc-mean  test-auc-std  train-auc-mean  train-auc-std\n",
      "0        0.758638      0.005211        0.759021       0.000567\n",
      "1        0.789470      0.004772        0.790072       0.000517\n",
      "2        0.798153      0.005634        0.799547       0.001693\n",
      "3        0.808296      0.004312        0.810067       0.001979\n",
      "4        0.813859      0.004881        0.816083       0.000723\n",
      "5        0.814465      0.004799        0.817037       0.000531\n",
      "6        0.814742      0.004741        0.817735       0.000517\n",
      "7        0.814571      0.004723        0.818133       0.000566\n",
      "8        0.814445      0.004572        0.818600       0.000521\n",
      "9        0.814475      0.004658        0.818939       0.000533\n",
      "10       0.814290      0.004676        0.819356       0.000521\n"
     ]
    }
   ],
   "source": [
    "logEachAd = [log[log.advertiser==ad].drop('advertiser', axis=1).fillna(value=0) for ad in xrange(1, 11)]\n",
    "input_type='string'\n",
    "param = {'max_depth':6, 'eta':1, 'silent':1, 'objective':'binary:logistic'}\n",
    "num_round = 11\n",
    "modnum = 2\n",
    "n_folds = 10\n",
    "\n",
    "for ind, eachlog in enumerate(logEachAd):\n",
    "    print '----------------- Advertiser %d -------------------' %(ind+1)\n",
    "    log_data = eachlog.drop('click', axis=1)\n",
    "    log_target = eachlog.click\n",
    "    hashlog_data = [[hashnum(modnum, num) for num in sample] for sample in log_data.drop(['floor_price','os'], axis=1).values]\n",
    "    log_data = np.c_[hashlog_data,log_data.os, log_data.floor_price]\n",
    "    dlog = xgb.DMatrix(log_data,label=log_target)\n",
    "    print xgb.cv(param, dlog, num_round, nfold=n_folds, metrics={'auc'}, seed = 0)\n",
    "    xgb_model = xgb.train(param, dlog, num_round)\n",
    "    model_path = '../models/Ad%d_xgb.pkl'%(ind+1)\n",
    "    joblib.dump(xgb_model, model_path)"
   ]
  },
  {
   "cell_type": "code",
   "execution_count": 9,
   "metadata": {
    "collapsed": false,
    "scrolled": true
   },
   "outputs": [
    {
     "name": "stdout",
     "output_type": "stream",
     "text": [
      "----------------- Advertiser 1 -------------------\n",
      "    test-auc-mean  test-auc-std  train-auc-mean  train-auc-std\n",
      "0        0.650861      0.006171        0.654020       0.001627\n",
      "1        0.666785      0.003373        0.669649       0.002339\n",
      "2        0.668230      0.003480        0.673692       0.001721\n",
      "3        0.669490      0.004180        0.679061       0.001144\n",
      "4        0.668077      0.004019        0.681845       0.000812\n",
      "5        0.667703      0.004041        0.684197       0.000897\n",
      "6        0.666623      0.004009        0.686149       0.000798\n",
      "7        0.665544      0.004644        0.688082       0.000857\n",
      "8        0.664584      0.004813        0.689793       0.000932\n",
      "9        0.664403      0.004956        0.691464       0.001073\n",
      "10       0.663836      0.005033        0.692935       0.001171\n",
      "----------------- Advertiser 2 -------------------\n",
      "    test-auc-mean  test-auc-std  train-auc-mean  train-auc-std\n",
      "0        0.554345      0.006989        0.558015       0.006110\n",
      "1        0.567882      0.004680        0.573683       0.002197\n",
      "2        0.570419      0.003087        0.581676       0.001558\n",
      "3        0.570671      0.004609        0.587017       0.001664\n",
      "4        0.571136      0.004529        0.590504       0.002024\n",
      "5        0.571135      0.004028        0.592952       0.001987\n",
      "6        0.571156      0.003734        0.596041       0.001517\n",
      "7        0.570560      0.003306        0.598841       0.000745\n",
      "8        0.569849      0.003118        0.600968       0.000931\n",
      "9        0.568527      0.003263        0.603278       0.001202\n",
      "10       0.567203      0.002820        0.605884       0.001276\n",
      "----------------- Advertiser 3 -------------------\n",
      "    test-auc-mean  test-auc-std  train-auc-mean  train-auc-std\n",
      "0        0.616817      0.004229        0.618254       0.001042\n",
      "1        0.636157      0.003911        0.639709       0.000679\n",
      "2        0.638342      0.003444        0.644009       0.001673\n",
      "3        0.640022      0.002956        0.648264       0.000515\n",
      "4        0.639743      0.002993        0.650365       0.000584\n",
      "5        0.638453      0.003134        0.651904       0.000799\n",
      "6        0.637855      0.002973        0.653507       0.000643\n",
      "7        0.637508      0.002837        0.654575       0.000713\n",
      "8        0.636294      0.003182        0.655930       0.000792\n",
      "9        0.635531      0.003026        0.657083       0.000715\n",
      "10       0.635222      0.003116        0.658191       0.000606\n",
      "----------------- Advertiser 4 -------------------\n",
      "    test-auc-mean  test-auc-std  train-auc-mean  train-auc-std\n",
      "0        0.561811      0.011675        0.565452       0.010532\n",
      "1        0.584164      0.005161        0.590309       0.003335\n",
      "2        0.592432      0.003954        0.601152       0.000982\n",
      "3        0.594131      0.005125        0.605039       0.000713\n",
      "4        0.593635      0.005605        0.607305       0.000703\n",
      "5        0.593334      0.005205        0.609185       0.001010\n",
      "6        0.593034      0.005179        0.610766       0.001095\n",
      "7        0.591851      0.004962        0.612470       0.001215\n",
      "8        0.591159      0.004932        0.614017       0.001094\n",
      "9        0.590473      0.005071        0.615594       0.001095\n",
      "10       0.589408      0.004917        0.617096       0.001127\n",
      "----------------- Advertiser 5 -------------------\n",
      "    test-auc-mean  test-auc-std  train-auc-mean  train-auc-std\n",
      "0        0.584637      0.005040        0.587241       0.001625\n",
      "1        0.605334      0.004880        0.611119       0.002402\n",
      "2        0.610067      0.004674        0.618000       0.000597\n",
      "3        0.610171      0.004120        0.619835       0.000722\n",
      "4        0.609270      0.004295        0.621655       0.000538\n",
      "5        0.608439      0.004105        0.623134       0.000632\n",
      "6        0.607755      0.004205        0.624560       0.000767\n",
      "7        0.607104      0.004045        0.625805       0.000797\n",
      "8        0.606711      0.004120        0.627197       0.000675\n",
      "9        0.606029      0.004031        0.628333       0.000783\n",
      "10       0.605343      0.004223        0.629381       0.000855\n",
      "----------------- Advertiser 6 -------------------\n",
      "    test-auc-mean  test-auc-std  train-auc-mean  train-auc-std\n",
      "0        0.541039      0.002754        0.543086       0.000725\n",
      "1        0.553331      0.003583        0.559261       0.002660\n",
      "2        0.562678      0.006439        0.572091       0.002277\n",
      "3        0.562942      0.005847        0.575643       0.001202\n",
      "4        0.562059      0.005294        0.578186       0.000714\n",
      "5        0.561777      0.004811        0.580285       0.000847\n",
      "6        0.561344      0.005062        0.581986       0.001183\n",
      "7        0.561011      0.005536        0.583455       0.001119\n",
      "8        0.560429      0.004799        0.585447       0.000983\n",
      "9        0.559903      0.004756        0.586883       0.001067\n",
      "10       0.559112      0.004275        0.588436       0.001330\n",
      "----------------- Advertiser 7 -------------------\n",
      "    test-auc-mean  test-auc-std  train-auc-mean  train-auc-std\n",
      "0        0.624846      0.003748        0.626366       0.001093\n",
      "1        0.654886      0.003563        0.657028       0.000656\n",
      "2        0.684208      0.003617        0.687625       0.000623\n",
      "3        0.687538      0.003545        0.692106       0.000509\n",
      "4        0.686878      0.003427        0.693189       0.000640\n",
      "5        0.686254      0.003359        0.694125       0.000692\n",
      "6        0.685825      0.003499        0.694721       0.000710\n",
      "7        0.685197      0.003236        0.695405       0.000642\n",
      "8        0.684491      0.002967        0.696240       0.000579\n",
      "9        0.683942      0.003033        0.696972       0.000541\n",
      "10       0.683538      0.003107        0.697691       0.000585\n",
      "----------------- Advertiser 8 -------------------\n",
      "    test-auc-mean  test-auc-std  train-auc-mean  train-auc-std\n",
      "0        0.636621      0.003860        0.637839       0.002315\n",
      "1        0.661056      0.002565        0.663459       0.001511\n",
      "2        0.667604      0.002704        0.671881       0.000944\n",
      "3        0.667897      0.003065        0.673964       0.000734\n",
      "4        0.668088      0.003114        0.675400       0.000338\n",
      "5        0.667449      0.003426        0.676179       0.000444\n",
      "6        0.666779      0.003497        0.677174       0.000530\n",
      "7        0.666406      0.003656        0.678005       0.000608\n",
      "8        0.665928      0.003939        0.678946       0.000559\n",
      "9        0.665277      0.003861        0.679732       0.000629\n",
      "10       0.664882      0.003906        0.680500       0.000585\n",
      "----------------- Advertiser 9 -------------------\n",
      "    test-auc-mean  test-auc-std  train-auc-mean  train-auc-std\n",
      "0        0.692682      0.003093        0.693707       0.000340\n",
      "1        0.716327      0.003092        0.718829       0.000369\n",
      "2        0.724392      0.002836        0.727924       0.000481\n",
      "3        0.725065      0.003090        0.729659       0.000467\n",
      "4        0.725151      0.002861        0.730584       0.000363\n",
      "5        0.724673      0.002960        0.731204       0.000377\n",
      "6        0.724091      0.002906        0.731869       0.000409\n",
      "7        0.723669      0.002947        0.732520       0.000293\n",
      "8        0.723160      0.002864        0.733099       0.000311\n",
      "9        0.722958      0.003004        0.733630       0.000398\n",
      "10       0.722593      0.003008        0.734206       0.000423\n",
      "----------------- Advertiser 10 -------------------\n",
      "    test-auc-mean  test-auc-std  train-auc-mean  train-auc-std\n",
      "0        0.758574      0.005176        0.759018       0.000588\n",
      "1        0.789262      0.004766        0.789939       0.000524\n",
      "2        0.797623      0.005505        0.799153       0.002112\n",
      "3        0.807963      0.004003        0.809920       0.002045\n",
      "4        0.813263      0.004915        0.815782       0.001686\n",
      "5        0.814072      0.004740        0.817106       0.000511\n",
      "6        0.814158      0.004706        0.817788       0.000560\n",
      "7        0.814018      0.004663        0.818460       0.000582\n",
      "8        0.813755      0.004684        0.818973       0.000574\n",
      "9        0.813594      0.004549        0.819414       0.000568\n",
      "10       0.813343      0.004517        0.819884       0.000567\n"
     ]
    }
   ],
   "source": [
    "logEachAd = [log[log.advertiser==ad].drop('advertiser', axis=1).fillna(value=0) for ad in xrange(1, 11)]\n",
    "input_type='string'\n",
    "param = {'max_depth':6, 'eta':1, 'silent':1, 'objective':'binary:logistic'}\n",
    "num_round = 11\n",
    "modnum = 3\n",
    "n_folds = 10\n",
    "\n",
    "for ind, eachlog in enumerate(logEachAd):\n",
    "    print '----------------- Advertiser %d -------------------' %(ind+1)\n",
    "    log_data = eachlog.drop('click', axis=1)\n",
    "    log_target = eachlog.click\n",
    "    hashlog_data = [[hashnum(modnum, num) for num in sample] for sample in log_data.drop(['floor_price','os'], axis=1).values]\n",
    "    log_data = np.c_[hashlog_data,log_data.os, log_data.floor_price]\n",
    "    dlog = xgb.DMatrix(log_data,label=log_target)\n",
    "    print xgb.cv(param, dlog, num_round, nfold=n_folds, metrics={'auc'}, seed = 0)\n",
    "    xgb_model = xgb.train(param, dlog, num_round)\n",
    "    model_path = '../models/Ad%d_xgb.pkl'%(ind+1)\n",
    "    joblib.dump(xgb_model, model_path)"
   ]
  },
  {
   "cell_type": "code",
   "execution_count": 63,
   "metadata": {
    "collapsed": false
   },
   "outputs": [],
   "source": [
    "xgb_models = [joblib.load('../models/Ad%d_xgb.pkl'%ind) for ind in xrange(1,11)]"
   ]
  },
  {
   "cell_type": "code",
   "execution_count": 51,
   "metadata": {
    "collapsed": false
   },
   "outputs": [
    {
     "name": "stdout",
     "output_type": "stream",
     "text": [
      "25.8333959579\n"
     ]
    }
   ],
   "source": [
    "test_samples = log.drop(['click', 'advertiser'], axis=1).loc[:10000].fillna(value=0)\n",
    "start_time = time.time()\n",
    "\n",
    "for test_sample in test_samples.as_matrix():\n",
    "    if test_sample[3] == 'iOS':\n",
    "        test_sample = xgb.DMatrix([hashnum(modnum, test_sample[0]), hashnum(modnum, test_sample[2]), 0])\n",
    "    else:\n",
    "        test_sample = xgb.DMatrix([hashnum(modnum, test_sample[0]), hashnum(modnum, test_sample[2]), 1])\n",
    "    [float(model.predict(test_sample))for model in xgb_models]\n",
    "print time.time() - start_time"
   ]
  },
  {
   "cell_type": "code",
   "execution_count": 80,
   "metadata": {
    "collapsed": false
   },
   "outputs": [],
   "source": [
    "sample_dict = {\n",
    "    'id' : \"ididid\",\n",
    "    'floorPrice' : 1000,\n",
    "    'site' : \"medianame\",\n",
    "    'device' : \"device\",\n",
    "    'user' : \"a9102910201\",\n",
    "    'test' : 0\n",
    "}"
   ]
  },
  {
   "cell_type": "code",
   "execution_count": 84,
   "metadata": {
    "collapsed": false
   },
   "outputs": [
    {
     "data": {
      "text/plain": [
       "[0.21913763880729675,\n",
       " 0.14578142762184143,\n",
       " 0.18474996089935303,\n",
       " 0.19934862852096558,\n",
       " 0.7245240211486816,\n",
       " 0.24230889976024628,\n",
       " 0.6336053609848022,\n",
       " 0.22833609580993652,\n",
       " 0.19325865805149078,\n",
       " 0.8674460053443909]"
      ]
     },
     "execution_count": 84,
     "metadata": {},
     "output_type": "execute_result"
    }
   ],
   "source": [
    "if sample_dict['floorPrice'] == 'nan':\n",
    "    sample_dict['floorPrice'] = 0\n",
    "if sample_dict['device'] == 'iOS':\n",
    "        test_sample = xgb.DMatrix([hashnum(modnum, sample_dict['site']), hashnum(modnum, sample_dict['user']), 0,  sample_dict['floorPrice']])\n",
    "else:\n",
    "    test_sample = xgb.DMatrix([hashnum(modnum, sample_dict['site']), hashnum(modnum, sample_dict['user']), 1,  sample_dict['floorPrice']])\n",
    "[float(model.predict(test_sample))for model in xgb_models]"
   ]
  },
  {
   "cell_type": "code",
   "execution_count": null,
   "metadata": {
    "collapsed": true
   },
   "outputs": [],
   "source": []
  }
 ],
 "metadata": {
  "kernelspec": {
   "display_name": "Python 2",
   "language": "python",
   "name": "python2"
  },
  "language_info": {
   "codemirror_mode": {
    "name": "ipython",
    "version": 2
   },
   "file_extension": ".py",
   "mimetype": "text/x-python",
   "name": "python",
   "nbconvert_exporter": "python",
   "pygments_lexer": "ipython2",
   "version": "2.7.11"
  }
 },
 "nbformat": 4,
 "nbformat_minor": 0
}

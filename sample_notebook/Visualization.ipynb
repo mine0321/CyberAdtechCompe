{
 "cells": [
  {
   "cell_type": "code",
   "execution_count": 36,
   "metadata": {
    "collapsed": false
   },
   "outputs": [],
   "source": [
    "% matplotlib inline"
   ]
  },
  {
   "cell_type": "code",
   "execution_count": 37,
   "metadata": {
    "collapsed": true
   },
   "outputs": [],
   "source": [
    "import pandas as pd\n",
    "import numpy as np\n",
    "import xgboost as xgb\n",
    "from sklearn.externals import joblib\n",
    "from sklearn.pipeline import Pipeline\n",
    "from sklearn.cross_validation import KFold\n",
    "from sklearn import metrics\n",
    "\n",
    "advertiserlist_path = '../data/adtech_intern_advertiserlist.csv'\n",
    "log_path = '../data/intern_samplelog.csv'"
   ]
  },
  {
   "cell_type": "code",
   "execution_count": 38,
   "metadata": {
    "collapsed": true
   },
   "outputs": [],
   "source": [
    "advertiserlist = pd.read_csv(advertiserlist_path)\n",
    "log_original = pd.read_csv(log_path)\n",
    "log = log_original"
   ]
  },
  {
   "cell_type": "code",
   "execution_count": 39,
   "metadata": {
    "collapsed": false
   },
   "outputs": [],
   "source": [
    "userlist = log.user.drop_duplicates().as_matrix()"
   ]
  },
  {
   "cell_type": "code",
   "execution_count": 65,
   "metadata": {
    "collapsed": false
   },
   "outputs": [],
   "source": [
    "MediaUser =  log.groupby(['advertiser', 'user']).sum().click.argmax()"
   ]
  },
  {
   "cell_type": "code",
   "execution_count": 66,
   "metadata": {
    "collapsed": false
   },
   "outputs": [
    {
     "data": {
      "text/html": [
       "<div>\n",
       "<table border=\"1\" class=\"dataframe\">\n",
       "  <thead>\n",
       "    <tr style=\"text-align: right;\">\n",
       "      <th></th>\n",
       "      <th>site</th>\n",
       "      <th>floor_price</th>\n",
       "      <th>user</th>\n",
       "      <th>os</th>\n",
       "      <th>click</th>\n",
       "      <th>advertiser</th>\n",
       "    </tr>\n",
       "  </thead>\n",
       "  <tbody>\n",
       "    <tr>\n",
       "      <th>2935</th>\n",
       "      <td>media_0004</td>\n",
       "      <td>NaN</td>\n",
       "      <td>user_000101057</td>\n",
       "      <td>iOS</td>\n",
       "      <td>1</td>\n",
       "      <td>6</td>\n",
       "    </tr>\n",
       "    <tr>\n",
       "      <th>251988</th>\n",
       "      <td>media_0052</td>\n",
       "      <td>30</td>\n",
       "      <td>user_000101057</td>\n",
       "      <td>iOS</td>\n",
       "      <td>1</td>\n",
       "      <td>6</td>\n",
       "    </tr>\n",
       "    <tr>\n",
       "      <th>745413</th>\n",
       "      <td>media_0087</td>\n",
       "      <td>50</td>\n",
       "      <td>user_000101057</td>\n",
       "      <td>iOS</td>\n",
       "      <td>1</td>\n",
       "      <td>6</td>\n",
       "    </tr>\n",
       "    <tr>\n",
       "      <th>1485644</th>\n",
       "      <td>media_0004</td>\n",
       "      <td>NaN</td>\n",
       "      <td>user_000101057</td>\n",
       "      <td>iOS</td>\n",
       "      <td>1</td>\n",
       "      <td>6</td>\n",
       "    </tr>\n",
       "    <tr>\n",
       "      <th>1732245</th>\n",
       "      <td>media_0045</td>\n",
       "      <td>NaN</td>\n",
       "      <td>user_000101057</td>\n",
       "      <td>iOS</td>\n",
       "      <td>1</td>\n",
       "      <td>6</td>\n",
       "    </tr>\n",
       "  </tbody>\n",
       "</table>\n",
       "</div>"
      ],
      "text/plain": [
       "               site  floor_price            user   os  click  advertiser\n",
       "2935     media_0004          NaN  user_000101057  iOS      1           6\n",
       "251988   media_0052           30  user_000101057  iOS      1           6\n",
       "745413   media_0087           50  user_000101057  iOS      1           6\n",
       "1485644  media_0004          NaN  user_000101057  iOS      1           6\n",
       "1732245  media_0045          NaN  user_000101057  iOS      1           6"
      ]
     },
     "execution_count": 66,
     "metadata": {},
     "output_type": "execute_result"
    }
   ],
   "source": [
    "log[(log['advertiser'] == MediaUser[0]) &(log['user'] == MediaUser[1])]"
   ]
  },
  {
   "cell_type": "code",
   "execution_count": 47,
   "metadata": {
    "collapsed": false
   },
   "outputs": [
    {
     "name": "stdout",
     "output_type": "stream",
     "text": [
      "['user_000001002', 1]\n",
      "['user_000001002', 1]\n",
      "['user_000001004', 1]\n",
      "['user_000001004', 1]\n",
      "['user_000001006', 1]\n",
      "['user_000001009', 1]\n",
      "['user_000001010', 1]\n",
      "['user_000001017', 1]\n",
      "['user_000001019', 1]\n",
      "['user_000001020', 1]\n",
      "['user_000001020', 1]\n",
      "['user_000001021', 1]\n",
      "['user_000001023', 1]\n",
      "['user_000001025', 1]\n",
      "['user_000001027', 1]\n",
      "['user_000001027', 1]\n",
      "['user_000001027', 1]\n",
      "['user_000001027', 1]\n",
      "['user_000001032', 1]\n",
      "['user_000001034', 1]\n",
      "['user_000001034', 1]\n",
      "['user_000001036', 1]\n",
      "['user_000001040', 1]\n",
      "['user_000001040', 1]\n",
      "['user_000001043', 1]\n",
      "['user_000001043', 1]\n",
      "['user_000001044', 1]\n",
      "['user_000001048', 1]\n",
      "['user_000001048', 1]\n",
      "['user_000001048', 1]\n",
      "['user_000001048', 1]\n",
      "['user_000001049', 1]\n",
      "['user_000001049', 1]\n",
      "['user_000001050', 1]\n",
      "['user_000001050', 1]\n",
      "['user_000001051', 1]\n",
      "['user_000001051', 1]\n",
      "['user_000001053', 1]\n",
      "['user_000001055', 1]\n",
      "['user_000001056', 1]\n",
      "['user_000001058', 1]\n",
      "['user_000001059', 1]\n",
      "['user_000001062', 1]\n",
      "['user_000001062', 1]\n",
      "['user_000001069', 1]\n",
      "['user_000001073', 1]\n",
      "['user_000001074', 1]\n",
      "['user_000001076', 1]\n",
      "['user_000001076', 1]\n",
      "['user_000001079', 1]\n",
      "['user_000001079', 1]\n",
      "['user_000001082', 1]\n",
      "['user_000001082', 1]\n",
      "['user_000001084', 1]\n",
      "['user_000001084', 1]\n",
      "['user_000001084', 1]\n",
      "['user_000001085', 1]\n",
      "['user_000001086', 1]\n",
      "['user_000001092', 1]\n",
      "['user_000001092', 1]\n",
      "['user_000001094', 1]\n",
      "['user_000001095', 1]\n",
      "['user_000001096', 1]\n",
      "['user_000001097', 1]\n",
      "['user_000001097', 1]\n",
      "['user_000001098', 1]\n",
      "['user_000001099', 1]\n",
      "['user_000001100', 1]\n",
      "['user_000001102', 1]\n",
      "['user_000001105', 1]\n",
      "['user_000001105', 1]\n",
      "['user_000001108', 1]\n",
      "['user_000001108', 1]\n",
      "['user_000001110', 1]\n",
      "['user_000001113', 1]\n",
      "['user_000001113', 1]\n",
      "['user_000001117', 1]\n",
      "['user_000001118', 1]\n",
      "['user_000001119', 1]\n",
      "['user_000001120', 1]\n",
      "['user_000001122', 1]\n",
      "['user_000001123', 1]\n",
      "['user_000001123', 1]\n",
      "['user_000001124', 1]\n",
      "['user_000001125', 1]\n",
      "['user_000001125', 1]\n",
      "['user_000001126', 1]\n",
      "['user_000001126', 1]\n",
      "['user_000001126', 1]\n",
      "['user_000001127', 1]\n",
      "['user_000001127', 1]\n",
      "['user_000001128', 1]\n",
      "['user_000001131', 1]\n",
      "['user_000001134', 1]\n",
      "['user_000001134', 1]\n",
      "['user_000001135', 1]\n",
      "['user_000001135', 1]\n",
      "['user_000001139', 1]\n",
      "['user_000001140', 1]\n",
      "['user_000001144', 1]\n",
      "['user_000001145', 1]\n",
      "['user_000001145', 1]\n",
      "['user_000001146', 1]\n",
      "['user_000001146', 1]\n",
      "['user_000001147', 1]\n",
      "['user_000001147', 1]\n",
      "['user_000001147', 1]\n",
      "['user_000001148', 1]\n",
      "['user_000001150', 1]\n",
      "['user_000001150', 1]\n",
      "['user_000001150', 1]\n",
      "['user_000001151', 1]\n",
      "['user_000001152', 1]\n",
      "['user_000001152', 1]\n",
      "['user_000001155', 1]\n",
      "['user_000001155', 1]\n",
      "['user_000001158', 1]\n",
      "['user_000001158', 1]\n",
      "['user_000001158', 1]\n",
      "['user_000001158', 1]\n",
      "['user_000001161', 1]\n",
      "['user_000001164', 1]\n",
      "['user_000001166', 1]\n",
      "['user_000001167', 1]\n",
      "['user_000001167', 1]\n",
      "['user_000001174', 1]\n",
      "['user_000001174', 1]\n",
      "['user_000001177', 1]\n",
      "['user_000001178', 1]\n",
      "['user_000001180', 1]\n",
      "['user_000001181', 1]\n",
      "['user_000001181', 1]\n",
      "['user_000001183', 1]\n",
      "['user_000001183', 1]\n",
      "['user_000001185', 1]\n",
      "['user_000001185', 1]\n",
      "['user_000001186', 1]\n",
      "['user_000001188', 1]\n",
      "['user_000001191', 1]\n",
      "['user_000001191', 1]\n",
      "['user_000001194', 1]\n",
      "['user_000001195', 1]\n",
      "['user_000001195', 1]\n",
      "['user_000001198', 1]\n",
      "['user_000001201', 1]\n",
      "['user_000001203', 1]\n",
      "['user_000001203', 1]\n",
      "['user_000001204', 1]\n",
      "['user_000001204', 1]\n",
      "['user_000001204', 1]\n",
      "['user_000001206', 1]\n"
     ]
    },
    {
     "ename": "KeyboardInterrupt",
     "evalue": "",
     "output_type": "error",
     "traceback": [
      "\u001b[0;31m---------------------------------------------------------------------------\u001b[0m",
      "\u001b[0;31mKeyboardInterrupt\u001b[0m                         Traceback (most recent call last)",
      "\u001b[0;32m<ipython-input-47-e87a75bf7859>\u001b[0m in \u001b[0;36m<module>\u001b[0;34m()\u001b[0m\n\u001b[1;32m      1\u001b[0m \u001b[0;32mfor\u001b[0m \u001b[0muser_id\u001b[0m \u001b[0;32min\u001b[0m \u001b[0muserlist\u001b[0m\u001b[0;34m:\u001b[0m\u001b[0;34m\u001b[0m\u001b[0m\n\u001b[1;32m      2\u001b[0m     \u001b[0mpreclick\u001b[0m \u001b[0;34m=\u001b[0m \u001b[0mNone\u001b[0m\u001b[0;34m\u001b[0m\u001b[0m\n\u001b[0;32m----> 3\u001b[0;31m     \u001b[0mclicklist\u001b[0m \u001b[0;34m=\u001b[0m \u001b[0mlog\u001b[0m\u001b[0;34m.\u001b[0m\u001b[0mclick\u001b[0m\u001b[0;34m[\u001b[0m\u001b[0mlog\u001b[0m\u001b[0;34m.\u001b[0m\u001b[0muser\u001b[0m \u001b[0;34m==\u001b[0m \u001b[0muser_id\u001b[0m\u001b[0;34m]\u001b[0m\u001b[0;34m.\u001b[0m\u001b[0mvalues\u001b[0m\u001b[0;34m\u001b[0m\u001b[0m\n\u001b[0m\u001b[1;32m      4\u001b[0m     \u001b[0;32mfor\u001b[0m \u001b[0mind\u001b[0m\u001b[0;34m,\u001b[0m \u001b[0mclick_flag\u001b[0m \u001b[0;32min\u001b[0m \u001b[0menumerate\u001b[0m\u001b[0;34m(\u001b[0m\u001b[0mclicklist\u001b[0m\u001b[0;34m)\u001b[0m\u001b[0;34m:\u001b[0m\u001b[0;34m\u001b[0m\u001b[0m\n\u001b[1;32m      5\u001b[0m         \u001b[0;32mif\u001b[0m \u001b[0;34m(\u001b[0m\u001b[0mclick_flag\u001b[0m \u001b[0;34m==\u001b[0m \u001b[0mpreclick\u001b[0m\u001b[0;34m)\u001b[0m \u001b[0;34m&\u001b[0m \u001b[0;34m(\u001b[0m\u001b[0mpreclick\u001b[0m \u001b[0;34m==\u001b[0m \u001b[0;36m1\u001b[0m\u001b[0;34m)\u001b[0m\u001b[0;34m:\u001b[0m\u001b[0;34m\u001b[0m\u001b[0m\n",
      "\u001b[0;32m/Users/kei/penv2/lib/python2.7/site-packages/pandas/core/ops.pyc\u001b[0m in \u001b[0;36mwrapper\u001b[0;34m(self, other, axis)\u001b[0m\n\u001b[1;32m    724\u001b[0m                 \u001b[0mother\u001b[0m \u001b[0;34m=\u001b[0m \u001b[0mnp\u001b[0m\u001b[0;34m.\u001b[0m\u001b[0masarray\u001b[0m\u001b[0;34m(\u001b[0m\u001b[0mother\u001b[0m\u001b[0;34m)\u001b[0m\u001b[0;34m\u001b[0m\u001b[0m\n\u001b[1;32m    725\u001b[0m \u001b[0;34m\u001b[0m\u001b[0m\n\u001b[0;32m--> 726\u001b[0;31m             \u001b[0mres\u001b[0m \u001b[0;34m=\u001b[0m \u001b[0mna_op\u001b[0m\u001b[0;34m(\u001b[0m\u001b[0mvalues\u001b[0m\u001b[0;34m,\u001b[0m \u001b[0mother\u001b[0m\u001b[0;34m)\u001b[0m\u001b[0;34m\u001b[0m\u001b[0m\n\u001b[0m\u001b[1;32m    727\u001b[0m             \u001b[0;32mif\u001b[0m \u001b[0misscalar\u001b[0m\u001b[0;34m(\u001b[0m\u001b[0mres\u001b[0m\u001b[0;34m)\u001b[0m\u001b[0;34m:\u001b[0m\u001b[0;34m\u001b[0m\u001b[0m\n\u001b[1;32m    728\u001b[0m                 raise TypeError('Could not compare %s type with Series'\n",
      "\u001b[0;32m/Users/kei/penv2/lib/python2.7/site-packages/pandas/core/ops.pyc\u001b[0m in \u001b[0;36mna_op\u001b[0;34m(x, y)\u001b[0m\n\u001b[1;32m    646\u001b[0m                     \u001b[0mresult\u001b[0m \u001b[0;34m=\u001b[0m \u001b[0mlib\u001b[0m\u001b[0;34m.\u001b[0m\u001b[0mvec_compare\u001b[0m\u001b[0;34m(\u001b[0m\u001b[0mx\u001b[0m\u001b[0;34m,\u001b[0m \u001b[0my\u001b[0m\u001b[0;34m,\u001b[0m \u001b[0mop\u001b[0m\u001b[0;34m)\u001b[0m\u001b[0;34m\u001b[0m\u001b[0m\n\u001b[1;32m    647\u001b[0m             \u001b[0;32melse\u001b[0m\u001b[0;34m:\u001b[0m\u001b[0;34m\u001b[0m\u001b[0m\n\u001b[0;32m--> 648\u001b[0;31m                 \u001b[0mresult\u001b[0m \u001b[0;34m=\u001b[0m \u001b[0mlib\u001b[0m\u001b[0;34m.\u001b[0m\u001b[0mscalar_compare\u001b[0m\u001b[0;34m(\u001b[0m\u001b[0mx\u001b[0m\u001b[0;34m,\u001b[0m \u001b[0my\u001b[0m\u001b[0;34m,\u001b[0m \u001b[0mop\u001b[0m\u001b[0;34m)\u001b[0m\u001b[0;34m\u001b[0m\u001b[0m\n\u001b[0m\u001b[1;32m    649\u001b[0m         \u001b[0;32melse\u001b[0m\u001b[0;34m:\u001b[0m\u001b[0;34m\u001b[0m\u001b[0m\n\u001b[1;32m    650\u001b[0m \u001b[0;34m\u001b[0m\u001b[0m\n",
      "\u001b[0;31mKeyboardInterrupt\u001b[0m: "
     ]
    }
   ],
   "source": [
    "for user_id in userlist:\n",
    "    preclick = None\n",
    "    clicklist = log.click[log.user == user_id].values\n",
    "    for ind, click_flag in enumerate(clicklist):\n",
    "        if (click_flag == preclick) & (preclick == 1):\n",
    "            print [user_id, click_flag]\n",
    "        preclick = click_flag"
   ]
  },
  {
   "cell_type": "code",
   "execution_count": null,
   "metadata": {
    "collapsed": true
   },
   "outputs": [],
   "source": []
  }
 ],
 "metadata": {
  "kernelspec": {
   "display_name": "Python 2",
   "language": "python",
   "name": "python2"
  },
  "language_info": {
   "codemirror_mode": {
    "name": "ipython",
    "version": 2
   },
   "file_extension": ".py",
   "mimetype": "text/x-python",
   "name": "python",
   "nbconvert_exporter": "python",
   "pygments_lexer": "ipython2",
   "version": "2.7.11"
  }
 },
 "nbformat": 4,
 "nbformat_minor": 0
}

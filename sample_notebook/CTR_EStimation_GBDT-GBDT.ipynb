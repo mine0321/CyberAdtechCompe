{
 "cells": [
  {
   "cell_type": "code",
   "execution_count": 1,
   "metadata": {
    "collapsed": true
   },
   "outputs": [],
   "source": [
    "import pandas as pd\n",
    "import numpy as np\n",
    "import xgboost as xgb\n",
    "from sklearn.externals import joblib\n",
    "from sklearn.pipeline import Pipeline\n",
    "from sklearn.cross_validation import KFold\n",
    "from sklearn import metrics\n",
    "\n",
    "advertiserlist_path = '../data/adtech_intern_advertiserlist.csv'\n",
    "log_path = '../data/intern_samplelog.csv'"
   ]
  },
  {
   "cell_type": "code",
   "execution_count": 2,
   "metadata": {
    "collapsed": true
   },
   "outputs": [],
   "source": [
    "advertiserlist = pd.read_csv(advertiserlist_path)\n",
    "log_original = pd.read_csv(log_path)\n",
    "log = log_original"
   ]
  },
  {
   "cell_type": "code",
   "execution_count": 3,
   "metadata": {
    "collapsed": false
   },
   "outputs": [
    {
     "name": "stderr",
     "output_type": "stream",
     "text": [
      "/Users/kei/penv2/lib/python2.7/site-packages/ipykernel/__main__.py:1: SettingWithCopyWarning: \n",
      "A value is trying to be set on a copy of a slice from a DataFrame\n",
      "\n",
      "See the caveats in the documentation: http://pandas.pydata.org/pandas-docs/stable/indexing.html#indexing-view-versus-copy\n",
      "  if __name__ == '__main__':\n",
      "/Users/kei/penv2/lib/python2.7/site-packages/ipykernel/__main__.py:2: SettingWithCopyWarning: \n",
      "A value is trying to be set on a copy of a slice from a DataFrame\n",
      "\n",
      "See the caveats in the documentation: http://pandas.pydata.org/pandas-docs/stable/indexing.html#indexing-view-versus-copy\n",
      "  from ipykernel import kernelapp as app\n"
     ]
    }
   ],
   "source": [
    "log.loc[:,'os'][log.os=='iOS'] = 0\n",
    "log.loc[:,'os'][log.os=='Android'] = 1"
   ]
  },
  {
   "cell_type": "code",
   "execution_count": 4,
   "metadata": {
    "collapsed": true
   },
   "outputs": [],
   "source": [
    "def hashnum(modnum, data):\n",
    "    mod = 10 ** modnum\n",
    "    return hash(data) % mod"
   ]
  },
  {
   "cell_type": "code",
   "execution_count": 23,
   "metadata": {
    "collapsed": false
   },
   "outputs": [
    {
     "name": "stdout",
     "output_type": "stream",
     "text": [
      "----------------- Advertiser 1 -------------------\n",
      "----------------- Advertiser 2 -------------------\n",
      "----------------- Advertiser 3 -------------------\n",
      "----------------- Advertiser 4 -------------------\n",
      "----------------- Advertiser 5 -------------------\n",
      "----------------- Advertiser 6 -------------------\n",
      "----------------- Advertiser 7 -------------------\n",
      "----------------- Advertiser 8 -------------------\n",
      "----------------- Advertiser 9 -------------------\n",
      "----------------- Advertiser 10 -------------------\n",
      "----------------- Advertiser 1 -------------------\n",
      "0.662212194529\n",
      "0.65934423551\n",
      "0.6657092759\n",
      "0.663910913954\n",
      "0.667515831428\n",
      "0.676985007197\n",
      "0.663298325398\n",
      "0.660958979252\n",
      "0.664546792143\n",
      "0.65849789129\n",
      "----------------- Advertiser 2 -------------------\n",
      "0.572032275285\n",
      "0.575604336996\n",
      "0.566810732699\n",
      "0.568758300434\n",
      "0.577214103771\n",
      "0.569358303974\n",
      "0.572279123598\n",
      "0.570654695308\n",
      "0.568862045171\n",
      "0.571465528642\n",
      "----------------- Advertiser 3 -------------------\n",
      "0.625256905879\n",
      "0.62340418157\n",
      "0.616372515134\n",
      "0.624201299132\n",
      "0.627367384197\n",
      "0.622984106942\n",
      "0.62470292728\n",
      "0.62353097618\n",
      "0.627393880226\n",
      "0.625720182763\n",
      "----------------- Advertiser 4 -------------------\n",
      "0.586406237051\n",
      "0.589407155183\n",
      "0.586149922838\n",
      "0.594347152342\n",
      "0.589425853526\n",
      "0.588150043553\n",
      "0.589385107594\n",
      "0.590794306924\n",
      "0.60200606561\n",
      "0.589572638242\n",
      "----------------- Advertiser 5 -------------------\n",
      "0.599401380093\n",
      "0.606153953203\n",
      "0.597362520298\n",
      "0.591934407759\n",
      "0.602031932408\n",
      "0.605046298793\n",
      "0.592089643162\n",
      "0.600400466657\n",
      "0.588224835419\n",
      "0.595614490047\n",
      "----------------- Advertiser 6 -------------------\n",
      "0.563956883325\n",
      "0.557120560473\n",
      "0.562670265813\n",
      "0.569135399762\n",
      "0.555547655431\n",
      "0.551694303603\n",
      "0.555212156903\n",
      "0.559680740363\n",
      "0.554948908919\n",
      "0.563205921789\n",
      "----------------- Advertiser 7 -------------------\n",
      "0.643211470791\n",
      "0.644650880607\n",
      "0.646090676633\n",
      "0.646803184683\n",
      "0.654758763812\n",
      "0.656162094199\n",
      "0.648379328587\n",
      "0.65070756114\n",
      "0.644315518121\n",
      "0.651489050686\n",
      "----------------- Advertiser 8 -------------------\n",
      "0.646780201058\n",
      "0.644677075114\n",
      "0.646092466265\n",
      "0.644045763761\n",
      "0.644540432929\n",
      "0.641551577936\n",
      "0.648394390358\n",
      "0.647783426921\n",
      "0.646562996335\n",
      "0.638102715257\n",
      "----------------- Advertiser 9 -------------------\n",
      "0.685749130467\n",
      "0.683605860761\n",
      "0.681392200342\n",
      "0.675745448425\n",
      "0.681370502969\n",
      "0.681470716964\n",
      "0.68273402611\n",
      "0.68441791555\n",
      "0.684594863333\n",
      "0.681695903961\n",
      "----------------- Advertiser 10 -------------------\n",
      "0.780334353934\n",
      "0.77498176169\n",
      "0.782087674004\n",
      "0.774024328336\n",
      "0.775880282232\n",
      "0.778250990209\n",
      "0.779995217298\n",
      "0.768080206624\n",
      "0.766832771571\n",
      "0.774314280757\n"
     ]
    }
   ],
   "source": [
    "logEachAd = [log[log.advertiser==ad].drop('advertiser', axis=1)for ad in xrange(1, 11)]\n",
    "input_type='string'\n",
    "param = {'max_depth':6, 'eta':1, 'silent':1, 'objective':'binary:logistic'}\n",
    "num_round = 2\n",
    "modnum = 3\n",
    "n_folds = 10\n",
    "\n",
    "xgb_models = [0] * 10\n",
    "for ind, eachlog in enumerate(logEachAd):\n",
    "    print '----------------- Advertiser %d -------------------' %(ind+1)\n",
    "    log_data = eachlog.drop('click', axis=1)\n",
    "    log_target = eachlog.click.values\n",
    "    hashlog_data = [[hashnum(modnum, num) for num in sample] for sample in log_data.drop(['floor_price','os'], axis=1).values]\n",
    "    log_data = np.c_[hashlog_data,log_data.os]\n",
    "    dlog = xgb.DMatrix(log_data, label=log_target)\n",
    "    kf = KFold(len(log_target), n_folds=n_folds, shuffle=True, random_state=0)\n",
    "    for train_index, test_index in kf:\n",
    "        dlog_train = xgb.DMatrix(\n",
    "            log_data[train_index], label=log_target[train_index])\n",
    "        dlog_test = xgb.DMatrix(\n",
    "            log_data[test_index], label=log_target[test_index])\n",
    "        xgb_model = xgb.train(param, dlog_train, num_round)\n",
    "        predict = xgb_model.predict(dlog_test)\n",
    "        # print metrics.roc_auc_score(log_target[test_index], predict)\n",
    "    xgb_models[ind] = xgb.train(param, dlog, num_round)\n",
    "\n",
    "for ind, eachlog in enumerate(logEachAd):\n",
    "    print '----------------- Advertiser %d -------------------' %(ind+1)\n",
    "    log_data = eachlog.drop('click', axis=1)\n",
    "    log_target = eachlog.click.values\n",
    "    hashlog_data = [[hashnum(modnum, num) for num in sample] for sample in log_data.drop(['floor_price','os'], axis=1).values]\n",
    "    log_data = np.c_[hashlog_data,log_data.os]\n",
    "    dlog = xgb.DMatrix(log_data, label=log_target)\n",
    "    kf = KFold(len(log_target), n_folds=n_folds, shuffle=True, random_state=0)\n",
    "    for train_index, test_index in kf:\n",
    "        dlog_train = xgb.DMatrix(\n",
    "            log_data[train_index], label=log_target[train_index])\n",
    "        dlog_test = xgb.DMatrix(\n",
    "            log_data[test_index], label=log_target[test_index])\n",
    "        newlog_train = np.c_[np.array([model.predict(dlog_train) for model in xgb_models]).T, log_data[train_index]]\n",
    "        newlog_test = np.c_[np.array([model.predict(dlog_test) for model in xgb_models]).T, log_data[test_index]]\n",
    "        newdlog_train = xgb.DMatrix(\n",
    "            newlog_train, label=log_target[train_index])\n",
    "        newdlog_test = xgb.DMatrix(\n",
    "            newlog_test, label=log_target[test_index])\n",
    "        xgb_model = xgb.train(param, newdlog_train, num_round)\n",
    "        predict = xgb_model.predict(newdlog_test)\n",
    "        print metrics.roc_auc_score(log_target[test_index], predict)"
   ]
  },
  {
   "cell_type": "code",
   "execution_count": null,
   "metadata": {
    "collapsed": true
   },
   "outputs": [],
   "source": []
  }
 ],
 "metadata": {
  "kernelspec": {
   "display_name": "Python 2",
   "language": "python",
   "name": "python2"
  },
  "language_info": {
   "codemirror_mode": {
    "name": "ipython",
    "version": 2
   },
   "file_extension": ".py",
   "mimetype": "text/x-python",
   "name": "python",
   "nbconvert_exporter": "python",
   "pygments_lexer": "ipython2",
   "version": "2.7.11"
  }
 },
 "nbformat": 4,
 "nbformat_minor": 0
}

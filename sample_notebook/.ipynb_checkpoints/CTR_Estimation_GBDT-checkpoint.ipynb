{
 "cells": [
  {
   "cell_type": "code",
   "execution_count": null,
   "metadata": {
    "collapsed": false
   },
   "outputs": [],
   "source": [
    "% matplotlib inline"
   ]
  },
  {
   "cell_type": "code",
   "execution_count": null,
   "metadata": {
    "collapsed": false
   },
   "outputs": [],
   "source": [
    "import pandas as pd\n",
    "import numpy as np\n",
    "import xgboost as xgb\n",
    "from sklearn.externals import joblib"
   ]
  },
  {
   "cell_type": "code",
   "execution_count": null,
   "metadata": {
    "collapsed": true
   },
   "outputs": [],
   "source": [
    "advertiserlist_path = '../data/adtech_intern_advertiserlist.csv'\n",
    "log_path = '../data/intern_samplelog.csv'"
   ]
  },
  {
   "cell_type": "code",
   "execution_count": null,
   "metadata": {
    "collapsed": false
   },
   "outputs": [],
   "source": [
    "advertiserlist = pd.read_csv(advertiserlist_path)\n",
    "log_original = pd.read_csv(log_path)\n",
    "log = log_original"
   ]
  },
  {
   "cell_type": "code",
   "execution_count": null,
   "metadata": {
    "collapsed": false
   },
   "outputs": [],
   "source": [
    "log.loc[:,'os'][log.os=='iOS'] = 0\n",
    "log.loc[:,'os'][log.os=='Android'] = 1"
   ]
  },
  {
   "cell_type": "code",
   "execution_count": null,
   "metadata": {
    "collapsed": false,
    "scrolled": true
   },
   "outputs": [],
   "source": [
    "def hashnum(modnum, data):\n",
    "    mod = 10 ** modnum\n",
    "    return hash(data) % mod"
   ]
  },
  {
   "cell_type": "code",
   "execution_count": null,
   "metadata": {
    "collapsed": false,
    "scrolled": false
   },
   "outputs": [],
   "source": [
    "logEachAd = [log[log.advertiser==ad].drop('advertiser', axis=1)for ad in xrange(1, 11)]\n",
    "input_type='string'\n",
    "param = {'max_depth':6, 'eta':1, 'silent':1, 'objective':'binary:logistic'}\n",
    "num_round = 2\n",
    "modnum = 3\n",
    "\n",
    "for ind, eachlog in enumerate(logEachAd):\n",
    "    print '----------------- Advertiser %d -------------------' %(ind+1)\n",
    "    log_data = eachlog.drop('click', axis=1)\n",
    "    log_target = eachlog.click\n",
    "    hashlog_data = [[hashnum(modnum, num) for num in sample] for sample in log_data.drop(['floor_price','os'], axis=1).values]\n",
    "    log_data = np.c_[hashlog_data,log_data.os]\n",
    "    dlog = xgb.DMatrix(log_data,label=log_target)\n",
    "    print xgb.cv(param, dlog, num_round, nfold=5, metrics={'auc'}, seed = 0)\n",
    "    xgb_model = xgb.train(param, dlog, num_round)\n",
    "    model_path = '../models/Ad%d_xgb.pkl'%(ind+1)\n",
    "    joblib.dump(xgb_model, model_path)"
   ]
  },
  {
   "cell_type": "code",
   "execution_count": null,
   "metadata": {
    "collapsed": false
   },
   "outputs": [],
   "source": [
    "xgb_models = [joblib.load('../models/Ad%_xgb.pkl'%ind) for ind in xrange(1,11)"
   ]
  },
  {
   "cell_type": "code",
   "execution_count": null,
   "metadata": {
    "collapsed": false
   },
   "outputs": [],
   "source": [
    "test_sample = log.loc[0].drop(['click', 'advertiser']).tolist()\n",
    "if test_sample[3] == 'iOS':\n",
    "    test_sample = xgb.DMatrix([hashnum(modnum, test_sample[0]), hashnum(modnum, test_sample[2]), 0])\n",
    "else:\n",
    "    test_sample = xgb.DMatrix([hashnum(modnum, test_sample[0]), hashnum(modnum, test_sample[2]), 1])\n",
    "float(xgb_model.predict(test_sample))"
   ]
  },
  {
   "cell_type": "code",
   "execution_count": null,
   "metadata": {
    "collapsed": true
   },
   "outputs": [],
   "source": []
  }
 ],
 "metadata": {
  "kernelspec": {
   "display_name": "Python 2",
   "language": "python",
   "name": "python2"
  },
  "language_info": {
   "codemirror_mode": {
    "name": "ipython",
    "version": 2
   },
   "file_extension": ".py",
   "mimetype": "text/x-python",
   "name": "python",
   "nbconvert_exporter": "python",
   "pygments_lexer": "ipython2",
   "version": "2.7.11"
  }
 },
 "nbformat": 4,
 "nbformat_minor": 0
}

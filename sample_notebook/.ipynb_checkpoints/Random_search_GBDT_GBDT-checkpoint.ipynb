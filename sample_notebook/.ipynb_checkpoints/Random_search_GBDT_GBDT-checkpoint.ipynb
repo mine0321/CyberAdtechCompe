{
 "cells": [
  {
   "cell_type": "code",
   "execution_count": 18,
   "metadata": {
    "collapsed": true
   },
   "outputs": [],
   "source": [
    "import pandas as pd\n",
    "import numpy as np\n",
    "import xgboost as xgb\n",
    "from sklearn.externals import joblib\n",
    "from sklearn.pipeline import Pipeline\n",
    "from sklearn.cross_validation import KFold\n",
    "from sklearn import metrics\n",
    "import scipy as sp\n",
    "from sklearn.grid_search import RandomizedSearchCV\n",
    "from sklearn.metrics import roc_auc_score\n",
    "\n",
    "advertiserlist_path = '../data/adtech_intern_advertiserlist.csv'\n",
    "log_path = '../data/intern_samplelog.csv'"
   ]
  },
  {
   "cell_type": "code",
   "execution_count": 2,
   "metadata": {
    "collapsed": true
   },
   "outputs": [],
   "source": [
    "advertiserlist = pd.read_csv(advertiserlist_path)\n",
    "log_original = pd.read_csv(log_path)\n",
    "log = log_original"
   ]
  },
  {
   "cell_type": "code",
   "execution_count": 3,
   "metadata": {
    "collapsed": false
   },
   "outputs": [
    {
     "name": "stderr",
     "output_type": "stream",
     "text": [
      "/Users/kei/penv2/lib/python2.7/site-packages/ipykernel/__main__.py:1: SettingWithCopyWarning: \n",
      "A value is trying to be set on a copy of a slice from a DataFrame\n",
      "\n",
      "See the caveats in the documentation: http://pandas.pydata.org/pandas-docs/stable/indexing.html#indexing-view-versus-copy\n",
      "  if __name__ == '__main__':\n",
      "/Users/kei/penv2/lib/python2.7/site-packages/ipykernel/__main__.py:2: SettingWithCopyWarning: \n",
      "A value is trying to be set on a copy of a slice from a DataFrame\n",
      "\n",
      "See the caveats in the documentation: http://pandas.pydata.org/pandas-docs/stable/indexing.html#indexing-view-versus-copy\n",
      "  from ipykernel import kernelapp as app\n"
     ]
    }
   ],
   "source": [
    "log.loc[:,'os'][log.os=='iOS'] = 0\n",
    "log.loc[:,'os'][log.os=='Android'] = 1"
   ]
  },
  {
   "cell_type": "code",
   "execution_count": 4,
   "metadata": {
    "collapsed": true
   },
   "outputs": [],
   "source": [
    "def hashnum(modnum, data):\n",
    "    mod = 10 ** modnum\n",
    "    return hash(data) % mod"
   ]
  },
  {
   "cell_type": "code",
   "execution_count": 16,
   "metadata": {
    "collapsed": false
   },
   "outputs": [],
   "source": [
    "ad_num = 10\n",
    "logEachAd = [log[log.advertiser==ad].drop('advertiser', axis=1)for ad in xrange(1, ad_num + 1)]\n",
    "input_type='string'\n",
    "param_distributions={'learning_rate': [0.05, 0.1],\n",
    "                     'max_depth': sp.stats.randint(1,11),\n",
    "                     'subsample': sp.stats.uniform(0.5,0.5),\n",
    "                     'colsample_bytree': sp.stats.uniform(0.5,0.5),\n",
    "                    \"min_child_weight\" :  sp.stats.uniform(1, 10),\n",
    "                    'gamma' : sp.stats.uniform(0, 1),\n",
    "                    \"colsample_bytree\" : sp.stats.uniform(0.5, 1)}\n",
    "param = {'eta':1,\n",
    "                     'silent':1,\n",
    "                     'objective':'binary:logistic'}\n",
    "\n",
    "num_round = 2\n",
    "modnum = 1\n",
    "n_folds = 10\n",
    "\n",
    "xgb_models = [0] * 10\n",
    "aucs = [0] * 10"
   ]
  },
  {
   "cell_type": "code",
   "execution_count": 61,
   "metadata": {
    "collapsed": false
   },
   "outputs": [
    {
     "name": "stdout",
     "output_type": "stream",
     "text": [
      "----------------- mod 10 ** 1  Advertiser 1 -------------------\n",
      "0.642728566667\n",
      "----------------- mod 10 ** 1  Advertiser 2 -------------------\n",
      "0.540859433333\n",
      "----------------- mod 10 ** 1  Advertiser 3 -------------------\n",
      "0.577762533333\n",
      "----------------- mod 10 ** 1  Advertiser 4 -------------------\n",
      "0.563322033333\n",
      "----------------- mod 10 ** 1  Advertiser 5 -------------------\n",
      "0.569755466667\n",
      "----------------- mod 10 ** 1  Advertiser 6 -------------------\n",
      "0.5367821\n",
      "----------------- mod 10 ** 1  Advertiser 7 -------------------\n",
      "0.627575666667\n",
      "----------------- mod 10 ** 1  Advertiser 8 -------------------\n",
      "0.613038466667\n",
      "----------------- mod 10 ** 1  Advertiser 9 -------------------\n",
      "0.6339235\n",
      "----------------- mod 10 ** 1  Advertiser 10 -------------------\n",
      "0.720614033333\n",
      "0.60263618\n"
     ]
    }
   ],
   "source": [
    "for ind, eachlog in enumerate(logEachAd):\n",
    "    print '----------------- mod 10 ** %d  Advertiser %d -------------------' %(modnum, ind+1)\n",
    "    log_data = eachlog.drop('click', axis=1).fillna(0)\n",
    "    log_target = eachlog.click\n",
    "    hashlog_data = [[hashnum(modnum, num) for num in sample] for sample in log_data.drop(['floor_price','os'], axis=1).values]\n",
    "    log_data = np.c_[hashlog_data,log_data.os, log_data.floor_price]\n",
    "    dlog = xgb.DMatrix(log_data,label=log_target)\n",
    "    aucs[ind] = xgb.cv(param, dlog, num_round, nfold=n_folds, metrics={'auc'}, seed = 0)['test-auc-mean'].mean()\n",
    "    print aucs[ind].mean()\n",
    "print np.mean(aucs)\n",
    "    # xgb_model = xgb.train(param, dlog, num_round)\n",
    "    # model_path = '../models/Ad%d_xgb.pkl'%(ind+1)\n",
    "    # joblib.dump(xgb_model, model_path)"
   ]
  },
  {
   "cell_type": "code",
   "execution_count": 59,
   "metadata": {
    "collapsed": false
   },
   "outputs": [
    {
     "name": "stdout",
     "output_type": "stream",
     "text": [
      "----------------- mod 10 ** 2  Advertiser 1 -------------------\n",
      "0.662359133333\n",
      "----------------- mod 10 ** 2  Advertiser 2 -------------------\n",
      "0.565085233333\n",
      "----------------- mod 10 ** 2  Advertiser 3 -------------------\n",
      "0.630567233333\n",
      "----------------- mod 10 ** 2  Advertiser 4 -------------------\n",
      "0.5794654\n",
      "----------------- mod 10 ** 2  Advertiser 5 -------------------\n",
      "0.600841\n",
      "----------------- mod 10 ** 2  Advertiser 6 -------------------\n",
      "0.5527871\n",
      "----------------- mod 10 ** 2  Advertiser 7 -------------------\n",
      "0.6546126\n",
      "----------------- mod 10 ** 2  Advertiser 8 -------------------\n",
      "0.654949666667\n",
      "----------------- mod 10 ** 2  Advertiser 9 -------------------\n",
      "0.711535866667\n",
      "----------------- mod 10 ** 2  Advertiser 10 -------------------\n",
      "0.782086833333\n",
      "0.639429006667\n"
     ]
    }
   ],
   "source": [
    "for ind, eachlog in enumerate(logEachAd):\n",
    "    print '----------------- mod 10 ** %d  Advertiser %d -------------------' %(modnum, ind+1)\n",
    "    log_data = eachlog.drop('click', axis=1).fillna(0)\n",
    "    log_target = eachlog.click\n",
    "    hashlog_data = [[hashnum(modnum, num) for num in sample] for sample in log_data.drop(['floor_price','os'], axis=1).values]\n",
    "    log_data = np.c_[hashlog_data,log_data.os, log_data.floor_price]\n",
    "    dlog = xgb.DMatrix(log_data,label=log_target)\n",
    "    aucs[ind] = xgb.cv(param, dlog, num_round, nfold=n_folds, metrics={'auc'}, seed = 0)['test-auc-mean'].mean()\n",
    "    print aucs[ind]\n",
    "print np.mean(aucs)\n",
    "    # xgb_model = xgb.train(param, dlog, num_round)\n",
    "    # model_path = '../models/Ad%d_xgb.pkl'%(ind+1)\n",
    "    # joblib.dump(xgb_model, model_path)"
   ]
  },
  {
   "cell_type": "code",
   "execution_count": 56,
   "metadata": {
    "collapsed": false,
    "scrolled": true
   },
   "outputs": [
    {
     "name": "stdout",
     "output_type": "stream",
     "text": [
      "----------------- mod 10 ** 5  Advertiser 1 -------------------\n",
      "0.6615247\n",
      "----------------- mod 10 ** 5  Advertiser 2 -------------------\n",
      "0.5648795\n",
      "----------------- mod 10 ** 5  Advertiser 3 -------------------\n",
      "0.630105866667\n",
      "----------------- mod 10 ** 5  Advertiser 4 -------------------\n",
      "0.579577166667\n",
      "----------------- mod 10 ** 5  Advertiser 5 -------------------\n",
      "0.600122166667\n",
      "----------------- mod 10 ** 5  Advertiser 6 -------------------\n",
      "0.550608333333\n",
      "----------------- mod 10 ** 5  Advertiser 7 -------------------\n",
      "0.654581066667\n",
      "----------------- mod 10 ** 5  Advertiser 8 -------------------\n",
      "0.6550155\n",
      "----------------- mod 10 ** 5  Advertiser 9 -------------------\n",
      "0.711201133333\n",
      "----------------- mod 10 ** 5  Advertiser 10 -------------------\n",
      "0.7818829\n",
      "0.638949833333\n"
     ]
    }
   ],
   "source": [
    "for ind, eachlog in enumerate(logEachAd):\n",
    "    print '----------------- mod 10 ** %d  Advertiser %d -------------------' %(modnum, ind+1)\n",
    "    log_data = eachlog.drop('click', axis=1).fillna(0)\n",
    "    log_target = eachlog.click\n",
    "    hashlog_data = [[hashnum(modnum, num) for num in sample] for sample in log_data.drop(['floor_price','os'], axis=1).values]\n",
    "    log_data = np.c_[hashlog_data,log_data.os, log_data.floor_price]\n",
    "    dlog = xgb.DMatrix(log_data,label=log_target)\n",
    "    aucs[ind] = xgb.cv(param, dlog, num_round, nfold=n_folds, metrics={'auc'}, seed = 0)['test-auc-mean'].mean()\n",
    "    print aucs[ind]\n",
    "print np.mean(aucs)\n",
    "    # xgb_model = xgb.train(param, dlog, num_round)\n",
    "    # model_path = '../models/Ad%d_xgb.pkl'%(ind+1)\n",
    "    # joblib.dump(xgb_model, model_path)"
   ]
  },
  {
   "cell_type": "code",
   "execution_count": 47,
   "metadata": {
    "collapsed": false
   },
   "outputs": [
    {
     "data": {
      "text/plain": [
       "0.78181953333333343"
      ]
     },
     "execution_count": 47,
     "metadata": {},
     "output_type": "execute_result"
    }
   ],
   "source": [
    "aucs['test-auc-mean'].mean()"
   ]
  },
  {
   "cell_type": "code",
   "execution_count": null,
   "metadata": {
    "collapsed": false,
    "scrolled": false
   },
   "outputs": [
    {
     "name": "stdout",
     "output_type": "stream",
     "text": [
      "----------------- Advertiser 1 -------------------\n",
      "Fitting 10 folds for each of 5 candidates, totalling 50 fits\n"
     ]
    }
   ],
   "source": [
    "for ind, eachlog in enumerate(logEachAd):\n",
    "    print '----------------- Advertiser %d -------------------' %(ind+1)\n",
    "    log_data = eachlog.drop('click', axis=1)\n",
    "    log_target = eachlog.click.values\n",
    "    hashlog_data = [[hashnum(modnum, num) for num in sample] for sample in log_data.drop(['floor_price','os'], axis=1).values]\n",
    "    log_data = np.c_[hashlog_data,log_data.os]\n",
    "    sample_length = len(log_target)/10\n",
    "    trainX = log_data[:-sample_length]\n",
    "    trainY = log_target[:-sample_length]\n",
    "    testX = log_data[-sample_length:]\n",
    "    testY = log_target[-sample_length:]\n",
    "    # dlog = xgb.DMatrix(log_data, label=log_target)\n",
    "    xgb_model = xgb.XGBClassifier(param)\n",
    "    rs = RandomizedSearchCV(xgb_model, param_distributions, cv=10, n_iter=5, scoring=\"roc_auc\", verbose=2, n_jobs = 4, random_state=0 )\n",
    "    rs.fit(trainX,trainY)\n",
    "    predict = rs.predict(testX)\n",
    "    print roc_auc_score(testY, predict)\n",
    "    param_distributions={'learning_rate': [0.05, 0.1],\n",
    "                     'max_depth': sp.stats.randint(1,11),\n",
    "                     'subsample': sp.stats.uniform(0.5,0.5),\n",
    "                    \"min_child_weight\" :  sp.stats.uniform(1, 10),\n",
    "                    'gamma' : sp.stats.uniform(0, 1),\n",
    "                    \"colsample_bytree\" : sp.stats.uniform(0.5, 1)}\n",
    "    best_param = {'learning_rate': rs.best_estimator_.learning_rate,\n",
    "              'max_depth': rs.best_estimator_.max_depth,\n",
    "                 'subsample': rs.best_estimator_.subsample,\n",
    "                  \"min_child_weight\" :  rs.best_estimator_.min_child_weight,\n",
    "              'gamma': rs.best_estimator_.gamma,\n",
    "              'silent': rs.best_estimator_.silent,\n",
    "              'objective': rs.best_estimator_.objective,\n",
    "                  \"colsample_bytree\" : rs.best_estimator_.colsample_bytree\n",
    "              }\n",
    "    dtrain = xgb.DMatrix(log_data, label=log_target)\n",
    "    bst = xgb.train(best_param, dtrain, num_round)\n",
    "    model_path = '../models/Ad%d_xgb.pkl'%(ind+1)\n",
    "    joblib.dump(bst, model_path)"
   ]
  },
  {
   "cell_type": "code",
   "execution_count": 15,
   "metadata": {
    "collapsed": false
   },
   "outputs": [
    {
     "data": {
      "text/plain": [
       "(171007,)"
      ]
     },
     "execution_count": 15,
     "metadata": {},
     "output_type": "execute_result"
    }
   ],
   "source": [
    "trainY.shape"
   ]
  },
  {
   "cell_type": "code",
   "execution_count": null,
   "metadata": {
    "collapsed": true
   },
   "outputs": [],
   "source": [
    "rs.fit(trainX,trainY)\n",
    "predict = rs.predict(testX)"
   ]
  },
  {
   "cell_type": "code",
   "execution_count": null,
   "metadata": {
    "collapsed": true
   },
   "outputs": [],
   "source": [
    "for ind, eachlog in enumerate(logEachAd):\n",
    "    print '----------------- Advertiser %d -------------------' %(ind+1)\n",
    "    log_data = eachlog.drop('click', axis=1)\n",
    "    log_target = eachlog.click.values\n",
    "    hashlog_data = [[hashnum(modnum, num) for num in sample] for sample in log_data.drop(['floor_price','os'], axis=1).values]\n",
    "    log_data = np.c_[hashlog_data,log_data.os]\n",
    "    dlog = xgb.DMatrix(log_data, label=log_target)\n",
    "    xgb_model = xgb.train(param, dlog_train, num_round)\n",
    "    \n",
    "    kf = KFold(len(log_target), n_folds=n_folds, shuffle=True, random_state=0)\n",
    "    for train_index, test_index in kf:\n",
    "        dlog_train = xgb.DMatrix(\n",
    "            log_data[train_index], label=log_target[train_index])\n",
    "        dlog_test = xgb.DMatrix(\n",
    "            log_data[test_index], label=log_target[test_index])\n",
    "        xgb_model = xgb.train(param, dlog_train, num_round)\n",
    "        predict = xgb_model.predict(dlog_test)\n",
    "        # print metrics.roc_auc_score(log_target[test_index], predict)\n",
    "    xgb_models[ind] = xgb.train(param, dlog, num_round)"
   ]
  }
 ],
 "metadata": {
  "kernelspec": {
   "display_name": "Python 2",
   "language": "python",
   "name": "python2"
  },
  "language_info": {
   "codemirror_mode": {
    "name": "ipython",
    "version": 2
   },
   "file_extension": ".py",
   "mimetype": "text/x-python",
   "name": "python",
   "nbconvert_exporter": "python",
   "pygments_lexer": "ipython2",
   "version": "2.7.11"
  }
 },
 "nbformat": 4,
 "nbformat_minor": 0
}
